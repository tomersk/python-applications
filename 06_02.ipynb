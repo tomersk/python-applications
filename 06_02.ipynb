{
  "nbformat": 4,
  "nbformat_minor": 0,
  "metadata": {
    "colab": {
      "provenance": [],
      "collapsed_sections": [],
      "mount_file_id": "1xyzU4aGg4dR6iFzra_wTrONiQOiobFlW",
      "authorship_tag": "ABX9TyOISWEbitcMiAaGlpYuOqUT",
      "include_colab_link": true
    },
    "kernelspec": {
      "name": "python3",
      "display_name": "Python 3"
    },
    "language_info": {
      "name": "python"
    }
  },
  "cells": [
    {
      "cell_type": "markdown",
      "metadata": {
        "id": "view-in-github",
        "colab_type": "text"
      },
      "source": [
        "<a href=\"https://colab.research.google.com/github/tomersk/python-applications/blob/main/06_02.ipynb\" target=\"_parent\"><img src=\"https://colab.research.google.com/assets/colab-badge.svg\" alt=\"Open In Colab\"/></a>"
      ]
    },
    {
      "cell_type": "markdown",
      "source": [
        "# 6.2 Pastas python package\n",
        "Pastas is a new and open source Python package for the analysis of hydrogeological time series. The objective of Pastas is twofold: to provide a scientific framework to develop and test new methods, and to provide a reliable ready-to-use software tool for groundwater practitioners. For technical details of the package, please refer to https://doi.org/10.1111/gwat.12925 and https://github.com/pastas/pastas. "
      ],
      "metadata": {
        "id": "g-0s2ibzBx7d"
      }
    },
    {
      "cell_type": "markdown",
      "source": [
        "First we install pastas package"
      ],
      "metadata": {
        "id": "oTE6N0hDDQFN"
      }
    },
    {
      "cell_type": "code",
      "source": [
        "pip install pastas"
      ],
      "metadata": {
        "id": "txDg2ASXC0WV"
      },
      "execution_count": null,
      "outputs": []
    },
    {
      "cell_type": "markdown",
      "source": [
        "Import the pastas and pandas"
      ],
      "metadata": {
        "id": "QkRXRO9UDqWG"
      }
    },
    {
      "cell_type": "code",
      "source": [
        "import pastas as ps"
      ],
      "metadata": {
        "id": "OHxwk8NWDISO"
      },
      "execution_count": null,
      "outputs": []
    },
    {
      "cell_type": "code",
      "source": [
        "import pandas as pd\n",
        "import matplotlib.pyplot as plt"
      ],
      "metadata": {
        "id": "wg6B4mxwDZCV"
      },
      "execution_count": null,
      "outputs": []
    },
    {
      "cell_type": "markdown",
      "source": [
        "Read the time series"
      ],
      "metadata": {
        "id": "4o7Q5LoBDx-U"
      }
    },
    {
      "cell_type": "code",
      "source": [
        "rain = pd.read_csv('https://raw.githubusercontent.com/tomersk/python-applications/main/rain.csv')\n",
        "evap = pd.read_csv('https://raw.githubusercontent.com/tomersk/python-applications/main/evap.csv')\n",
        "obs = pd.read_csv('https://raw.githubusercontent.com/tomersk/python-applications/main/obs.csv')"
      ],
      "metadata": {
        "id": "F704jYHP4db_"
      },
      "execution_count": null,
      "outputs": []
    },
    {
      "cell_type": "code",
      "source": [
        "#obs = pd.read_csv('/content/drive/MyDrive/Python_in_Hydrology/Data/pastas_data/example_1/obs.csv',parse_dates=['Date'], index_col='Date', squeeze=True)\n",
        "#rain = pd.read_csv('/content/drive/MyDrive/Python_in_Hydrology/Data/pastas_data/example_1/rain.csv', parse_dates=['Date'], index_col='Date', squeeze=True)\n",
        "#evap = pd.read_csv('/content/drive/MyDrive/Python_in_Hydrology/Data/pastas_data/example_1/evap.csv', parse_dates=['Date'], index_col='Date', squeeze=True)"
      ],
      "metadata": {
        "id": "uzOqnRKBDMg2"
      },
      "execution_count": null,
      "outputs": []
    },
    {
      "cell_type": "markdown",
      "source": [
        "Create a model object"
      ],
      "metadata": {
        "id": "KlRSQFd6EGwm"
      }
    },
    {
      "cell_type": "code",
      "source": [
        "ml = ps.Model(obs)\n"
      ],
      "metadata": {
        "id": "MTZll-L5EE_t"
      },
      "execution_count": null,
      "outputs": []
    },
    {
      "cell_type": "markdown",
      "source": [
        "Add recharge model"
      ],
      "metadata": {
        "id": "DbK-eYZdAqVk"
      }
    },
    {
      "cell_type": "code",
      "source": [
        "rm = ps.RechargeModel(rain, evap, ps.Gamma, name='recharge')\n",
        "ml.add_stressmodel(rm)"
      ],
      "metadata": {
        "id": "IByP9EgYAs3F"
      },
      "execution_count": null,
      "outputs": []
    },
    {
      "cell_type": "markdown",
      "source": [
        "Estimate model parameters"
      ],
      "metadata": {
        "id": "YTUYBLHzAyBj"
      }
    },
    {
      "cell_type": "code",
      "source": [
        "ml.solve(tmax='1984')"
      ],
      "metadata": {
        "id": "Rr3bL5okA5ck"
      },
      "execution_count": null,
      "outputs": []
    },
    {
      "cell_type": "markdown",
      "source": [
        "In this example, tmax='1984' is used, meaning that the model is calibrated on the available head observations up to 1984.\n",
        "\n",
        "Visualize model results"
      ],
      "metadata": {
        "id": "Pgs6e_xUBHo0"
      }
    },
    {
      "cell_type": "code",
      "source": [
        "ml.plot(tmax='1989')"
      ],
      "metadata": {
        "id": "irTcMC5vBPnL"
      },
      "execution_count": null,
      "outputs": []
    },
    {
      "cell_type": "markdown",
      "source": [
        "Analyze residuals and noise"
      ],
      "metadata": {
        "id": "emBJ0eYxBjz0"
      }
    },
    {
      "cell_type": "code",
      "source": [
        "ml.plots.diagnostics()"
      ],
      "metadata": {
        "id": "Zf_NFqxWBtjT"
      },
      "execution_count": null,
      "outputs": []
    }
  ]
}