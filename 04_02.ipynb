{
  "nbformat": 4,
  "nbformat_minor": 0,
  "metadata": {
    "colab": {
      "provenance": [],
      "collapsed_sections": [],
      "authorship_tag": "ABX9TyN8/MXkwK/176I2ND2nbKUq",
      "include_colab_link": true
    },
    "kernelspec": {
      "name": "python3",
      "display_name": "Python 3"
    },
    "language_info": {
      "name": "python"
    }
  },
  "cells": [
    {
      "cell_type": "markdown",
      "metadata": {
        "id": "view-in-github",
        "colab_type": "text"
      },
      "source": [
        "<a href=\"https://colab.research.google.com/github/tomersk/python-applications/blob/main/04_02.ipynb\" target=\"_parent\"><img src=\"https://colab.research.google.com/assets/colab-badge.svg\" alt=\"Open In Colab\"/></a>"
      ]
    },
    {
      "cell_type": "markdown",
      "source": [
        "# 4.1 Infiltration Method\n",
        "Method to estimate abstraction arises from infiltration under variable rainfall intensity is based on Green-Ampt infiltration equation. When infiltration rate is more than rainfall intensity or in absence of ponding, cumulative infiltration is calculated from cumulative rainfall. If infiltration rateis less than rainfall intensity, ponding will take place. \n",
        "According to Green-Ampt Infiltration Equation: \n",
        "\n",
        "\n",
        "*  Cumulative Infiltration ${F_{t+\\Delta t}}$\n",
        "\n",
        "     ${F_{t+\\Delta t}} = F_t + K\\Delta t + \\Psi \\Delta θ ln \\frac{F_{t+\\Delta t}+ \\Psi \\Delta θ}{F_t+ \\Psi \\Delta θ}$ \n",
        "*   Infiltration Rate ${f_{t+\\Delta t}}$\n",
        "    \n",
        "     ${f_{t+\\Delta t}} =  K (\\frac{\\Psi \\Delta θ}{F_{t+\\Delta t}} + 1) $ \n",
        "\n",
        "\n",
        "\n",
        " "
      ],
      "metadata": {
        "id": "hTlkio4M34fB"
      }
    },
    {
      "cell_type": "code",
      "source": [
        "## Source: https://github.com/csdms-contrib/GreenAmptInfiltrationModel ##\n",
        "from scipy.optimize import newton\n",
        "from pprint import pprint\n",
        "from json import dump\n",
        "from math import log\n",
        "import numpy as np\n",
        "import matplotlib.pyplot as plt\n",
        "\n",
        "class GreenAmpt(object):\n",
        "    '''\n",
        "    Green-Ampt Cumulative Infiltration \n",
        "    '''\n",
        "        \n",
        "    def __init__(self, K, dt, dtheta, psi, i):\n",
        "        \"\"\"\n",
        "        Constructor\n",
        "        \"\"\"\n",
        "        self.K       = K                 # hydraulic conductivity\n",
        "        self.dt      = dt                # time resolution\n",
        "        #self.theta_i = theta_i           # initial water content\n",
        "        #self.theta_s = theta_s           # saturated water content\n",
        "        self.dtheta  = dtheta #theta_s - theta_i # the change in the moisture content\n",
        "        self.psi     = psi               # wetting front soil suction head\n",
        "        if type(i) == list:\n",
        "            self.i = i                   # rainfall intensity\n",
        "        else:\n",
        "            self.i = [i]\n",
        "    \n",
        "    def Fp(self, i):\n",
        "        \"\"\"\n",
        "        Cumulative infiltration at the ponding time tp\n",
        "        \"\"\"\n",
        "        return self.K * self.psi * self.dtheta / (i - self.K) \n",
        "    \n",
        "    def F(self, F_t, dt_t):\n",
        "        \"\"\"\n",
        "        Solve Equation of Green-Ampt Cumulative Infiltration __EqnF\n",
        "        \"\"\"\n",
        "        F_t_next = lambda F: self.__EqnF(F_t, dt_t, F)\n",
        "        return newton(F_t_next, 3)\n",
        "    \n",
        "    def f(self, F):\n",
        "        \"\"\"\n",
        "        Generate Green-Ampt Infiltration Rate at time t\n",
        "        \"\"\"\n",
        "        if F == 0:\n",
        "            return -9999\n",
        "        else:\n",
        "            return self.K * (self.psi * self.dtheta / F + 1)    \n",
        "        \n",
        "    def __EqnF(self, F_t, dt_t, F):\n",
        "        \"\"\"\n",
        "        Equation of Green-Ampt Cumulative Infiltration after ponding\n",
        "        F:  Green-Ampt Cumulative Infiltration variable \n",
        "        \"\"\"\n",
        "        return F - F_t - self.K*dt_t - self.psi*self.dtheta*log((self.psi*self.dtheta+F)/(self.psi*self.dtheta+F_t))\n",
        "    \n",
        "    def F_f(self):\n",
        "        \"\"\"\n",
        "        Generate the time series of cumulative infiltration and infiltration rate\n",
        "        given the time series of rainfall intensity i\n",
        "        \"\"\"\n",
        "        t_len = len(self.i)\n",
        "        F_all = []; f_all = []; t_all = []\n",
        "        # initial\n",
        "        F_all.append(0)\n",
        "        f_all.append(-9999)\n",
        "        t_all.append(0)\n",
        "        for ind in range(1, t_len+1):\n",
        "            i_t = self.i[ind-1]\n",
        "            f_t = f_all[ind-1]\n",
        "            F_t = F_all[ind-1]\n",
        "            if abs(f_t) <= i_t:\n",
        "                # ponding occurs throught interval\n",
        "                F_t_next = self.F(F_t, self.dt)\n",
        "                f_t_next = self.f(F_t_next)\n",
        "            elif abs(f_t) > i_t:\n",
        "                # no ponding at the beginning of the interval\n",
        "                F_t_next_temp = F_t + i_t*self.dt\n",
        "                f_t_next_temp = self.f(F_t_next_temp)\n",
        "                if abs(f_t_next_temp) > i_t:\n",
        "                    # no ponding throughout interval\n",
        "                    f_t_next = f_t_next_temp\n",
        "                    F_t_next = F_t_next_temp\n",
        "                elif abs(f_t_next_temp) <= i_t:\n",
        "                    # ponding occurs during interval\n",
        "                    Fp_t = self.Fp(i_t)\n",
        "                    print(i_t)\n",
        "                    dt_p = (Fp_t - F_t) / i_t\n",
        "                    F_t_next = self.F(Fp_t, self.dt - dt_p)\n",
        "                    f_t_next = self.f(F_t_next)        \n",
        "            F_all.append(F_t_next)\n",
        "            f_all.append(f_t_next)\n",
        "            t_all.append(self.dt*(ind))        \n",
        "        return F_all, f_all, t_all"
      ],
      "metadata": {
        "id": "9u9A4eZB4S5D"
      },
      "execution_count": 11,
      "outputs": []
    },
    {
      "cell_type": "markdown",
      "source": [
        "Example: V.T.Chow Example 5.4.1\n",
        "Solutio: "
      ],
      "metadata": {
        "id": "6L9cZNeMwdQr"
      }
    },
    {
      "cell_type": "code",
      "source": [
        "    K = 1.09; psi = 11.01; dtheta = 0.247; dt = 0.166 ; dt_min = 10;\n",
        "    i = [1.08, 1.26, 1.56, 1.92, 2.22, 2.58, 3.84, 6.84, 19.08, \\\n",
        "         9.90, 4.86, 3.12, 2.52, 2.16, 1.68, 1.44, 1.14, 1.02]\n",
        "    a = GreenAmpt(K, dt, dtheta, psi, i)\n",
        "    F, f, t =a.F_f()\n",
        "\n",
        "    incre_i = [x * dt for x in i]\n",
        "    #print(incre_i)\n",
        "    cum_i = []\n",
        "    cum_i = [sum(incre_i[0:x:1]) for x in range(0, len(incre_i)+1)]\n",
        "    #print(cum_i)\n",
        "    #print(F)\n",
        "    cum_excess_rain = np.array(cum_i)-np.array(F)\n",
        "    #print(cum_excess_rain)\n",
        "    excess_rain = [cum_excess_rain[x+1]-cum_excess_rain[x] for x in range(0, len(cum_excess_rain)-1)]\n",
        "    #print(excess_rain)\n",
        "    t_min = np.arange(0,(len(i)+1)*dt_min,dt_min)\n",
        "    #print(t_min)\n",
        "###### Plotting\n",
        "    fig, ax = plt.subplots(figsize = (10, 5))\n",
        "    ax2 = ax.twinx()\n",
        "    ax.bar(t_min[1:19],i,color = 'g',width = 8)\n",
        "    ax2.bar(t_min[1:19],excess_rain,color = 'b',width = 6)\n",
        "    ax.plot(t_min[1:19],f[1:],'--r') \n",
        "    ax.set_xlabel('Time (min)')\n",
        "    ax.set_ylabel('Rate (cm/h)')\n",
        "    ax2.set_ylabel('Excess Rainfall (cm)',color = 'b')\n",
        "    ax2.set_ylim([0, 4])\n",
        "    ax.legend([\"Infiltration Rate\",\"Rainfall Intensity\"],loc = 'upper left')\n",
        "    ax2.legend([\"Excess Incremental Rainfall\"],loc='upper right')\n",
        "    ax.set_xticks(t_min)\n",
        "    #ax.bar(x, y1, color = 'g')\n",
        "    #ax2.bar(x, y2, color = 'b')\n",
        "    plt.show()"
      ],
      "metadata": {
        "colab": {
          "base_uri": "https://localhost:8080/",
          "height": 338
        },
        "id": "V7kS9-Zh44pH",
        "outputId": "86dcc087-670e-462a-b988-593e64edc2db"
      },
      "execution_count": 133,
      "outputs": [
        {
          "output_type": "display_data",
          "data": {
            "text/plain": [
              "<Figure size 720x360 with 2 Axes>"
            ],
            "image/png": "[encoded data removed]"
          },
          "metadata": {
            "needs_background": "light"
          }
        }
      ]
    },
    {
      "cell_type": "code",
      "source": [],
      "metadata": {
        "id": "UFxOZZJkKRVS"
      },
      "execution_count": null,
      "outputs": []
    }
  ]
}