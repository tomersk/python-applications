{
  "nbformat": 4,
  "nbformat_minor": 0,
  "metadata": {
    "colab": {
      "provenance": [],
      "collapsed_sections": [],
      "authorship_tag": "ABX9TyMMGivNhZ/J2F+jdwlAl3DW",
      "include_colab_link": true
    },
    "kernelspec": {
      "name": "python3",
      "display_name": "Python 3"
    },
    "language_info": {
      "name": "python"
    }
  },
  "cells": [
    {
      "cell_type": "markdown",
      "metadata": {
        "id": "view-in-github",
        "colab_type": "text"
      },
      "source": [
        "<a href=\"https://colab.research.google.com/github/tomersk/python-applications/blob/main/01_02.ipynb\" target=\"_parent\"><img src=\"https://colab.research.google.com/assets/colab-badge.svg\" alt=\"Open In Colab\"/></a>"
      ]
    },
    {
      "cell_type": "markdown",
      "source": [
        "1. Reading Netcdf file for each year"
      ],
      "metadata": {
        "id": "w-ickmJyZAxe"
      }
    },
    {
      "cell_type": "code",
      "source": [
        "from google.colab import drive\n",
        "import netCDF4 as nc\n",
        "import matplotlib.pyplot as plt\n",
        "import numpy as np\n",
        "import pandas as pd\n",
        "import datetime\n",
        "\n",
        "drive.mount(\"/content/gdrive/\")"
      ],
      "metadata": {
        "id": "pFd7To9PZJ0W",
        "colab": {
          "base_uri": "https://localhost:8080/"
        },
        "outputId": "93d363ed-0412-4faf-9eb9-b367e076ede0"
      },
      "execution_count": 1,
      "outputs": [
        {
          "output_type": "stream",
          "name": "stdout",
          "text": [
            "Mounted at /content/gdrive/\n"
          ]
        }
      ]
    },
    {
      "cell_type": "code",
      "source": [
        "startyear=1901\n",
        "endyear=1902\n",
        "File_name=np.arange(startyear, endyear+1, 1)\n",
        "file = '/content/gdrive/My Drive/Colab Notebooks/IMD/rain_'+str(startyear)+'.nc'\n",
        "ds = nc.Dataset(file)\n",
        "latitude=ds.variables['lat'][:]\n",
        "longitude=ds.variables['lon'][:]\n",
        "rainfall=ds.variables['rain'][:]\n",
        "ds.close()\n",
        "AMS=np.empty((rainfall.shape[0],rainfall.shape[1],len(File_name)))\n",
        "\n",
        "\n",
        "for f in range(len(File_name)):\n",
        "    file = '/content/gdrive/My Drive/Colab Notebooks/IMD/rain_'+str(File_name[f])+'.nc'\n",
        "    ds = nc.Dataset(file)\n",
        "    rainfall=ds.variables['rain'][:]\n",
        "    AMS[:,:,f]=rainfall[:,:,:].max(2)\n",
        "    ds.close()"
      ],
      "metadata": {
        "id": "lrHMCYhh-y6l"
      },
      "execution_count": 2,
      "outputs": []
    },
    {
      "cell_type": "markdown",
      "source": [
        "2. Visualizing Data- 1 Day mean annual maximum rainfall plot"
      ],
      "metadata": {
        "id": "rUFxVJSskfC0"
      }
    },
    {
      "cell_type": "code",
      "source": [
        "plt.imshow(AMS[:,:,:].mean(2))\n",
        "cbar=plt.colorbar()\n",
        "cbar.set_label('Rainfall (mm)')\n",
        "x=np.arange(0, 140, 20)\n",
        "plt.xticks(x,longitude[x])\n",
        "y=x=np.arange(0, 140, 20)\n",
        "plt.yticks(y,latitude[y])\n",
        "plt.gca().invert_yaxis()\n",
        "plt.title(\"1-Day Mean Annual Maxima over \"+str(startyear)+\"-\"+str(endyear))\n",
        "plt.xlabel('Longitude')\n",
        "plt.ylabel('Latitude')\n",
        "plt.show()"
      ],
      "metadata": {
        "id": "vxQdYerEECXz",
        "colab": {
          "base_uri": "https://localhost:8080/",
          "height": 295
        },
        "outputId": "44311a5f-660a-4b5c-e6e0-ce6c6078d6e9"
      },
      "execution_count": null,
      "outputs": [
        {
          "output_type": "display_data",
          "data": {
            "text/plain": [
              "<Figure size 432x288 with 2 Axes>"
            ],
            "image/png": "[encoded data removed]"
          },
          "metadata": {
            "needs_background": "light"
          }
        }
      ]
    },
    {
      "cell_type": "markdown",
      "source": [
        "2. Visualizing Yearly rainfall maxima at a location"
      ],
      "metadata": {
        "id": "OxlYao8ubvZC"
      }
    },
    {
      "cell_type": "code",
      "source": [
        "plt.bar([\"1901\", \"1902\"],AMS[latitude.tolist().index(23.5),longitude.tolist().index(85.5),:])\n",
        "plt.title(\"1-Day Annual Maximum rainfall\")\n",
        "plt.xlabel('Years')\n",
        "plt.ylabel('Rainfall (mm)')\n",
        "plt.show()\n"
      ],
      "metadata": {
        "colab": {
          "base_uri": "https://localhost:8080/",
          "height": 295
        },
        "id": "rIaM3niab4-i",
        "outputId": "c22ed67d-e2a0-4294-db31-245145b363a8"
      },
      "execution_count": null,
      "outputs": [
        {
          "output_type": "display_data",
          "data": {
            "text/plain": [
              "<Figure size 432x288 with 1 Axes>"
            ],
            "image/png": "[encoded data removed]"
          },
          "metadata": {
            "needs_background": "light"
          }
        }
      ]
    }
  ]
}