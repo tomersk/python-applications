{
  "nbformat": 4,
  "nbformat_minor": 0,
  "metadata": {
    "colab": {
      "provenance": [],
      "collapsed_sections": [],
      "authorship_tag": "ABX9TyNmUPHZX271MS97jaKY3Wu7",
      "include_colab_link": true
    },
    "kernelspec": {
      "name": "python3",
      "display_name": "Python 3"
    },
    "language_info": {
      "name": "python"
    }
  },
  "cells": [
    {
      "cell_type": "markdown",
      "metadata": {
        "id": "view-in-github",
        "colab_type": "text"
      },
      "source": [
        "<a href=\"https://colab.research.google.com/github/tomersk/python-applications/blob/main/01_01.ipynb\" target=\"_parent\"><img src=\"https://colab.research.google.com/assets/colab-badge.svg\" alt=\"Open In Colab\"/></a>"
      ]
    },
    {
      "cell_type": "code",
      "execution_count": null,
      "metadata": {
        "id": "YUaOvtRNY7eE"
      },
      "outputs": [],
      "source": []
    },
    {
      "cell_type": "markdown",
      "source": [
        "1. Reading Netcdf file for each year"
      ],
      "metadata": {
        "id": "w-ickmJyZAxe"
      }
    },
    {
      "cell_type": "code",
      "source": [
        "from google.colab import drive\n",
        "import netCDF4 as nc\n",
        "import matplotlib.pyplot as plt\n",
        "import numpy as np\n",
        "\n",
        "drive.mount(\"/content/gdrive/\")\n",
        "\n",
        "file = '/content/gdrive/My Drive/Colab Notebooks/IMD/rain_1901.nc'\n",
        "\n",
        "\n"
      ],
      "metadata": {
        "id": "pFd7To9PZJ0W",
        "colab": {
          "base_uri": "https://localhost:8080/"
        },
        "outputId": "4b59d438-3ad1-43b0-f83c-27b9d9232616"
      },
      "execution_count": null,
      "outputs": [
        {
          "output_type": "stream",
          "name": "stdout",
          "text": [
            "Drive already mounted at /content/gdrive/; to attempt to forcibly remount, call drive.mount(\"/content/gdrive/\", force_remount=True).\n"
          ]
        }
      ]
    },
    {
      "cell_type": "code",
      "source": [
        "ds = nc.Dataset(file)\n",
        "print(ds)\n",
        "\n",
        "# print the dimensions of the nc file\n",
        "print(ds.dimensions)\n",
        "print(ds.variables)\n",
        "print(\"======= Variable names on seperate line =====\")\n",
        "# print one by one\n",
        "for var in ds.variables:\n",
        "  print(var)\n"
      ],
      "metadata": {
        "id": "lrHMCYhh-y6l"
      },
      "execution_count": null,
      "outputs": []
    },
    {
      "cell_type": "code",
      "source": [
        "latitude=ds.variables['lat'][:]\n",
        "longitude=ds.variables['lon'][:]\n",
        "day=ds.variables['time'][:]\n",
        "rainfall=ds.variables['rain'][:]"
      ],
      "metadata": {
        "id": "jDdkcUTT_LUc"
      },
      "execution_count": null,
      "outputs": []
    },
    {
      "cell_type": "code",
      "source": [
        "ds.close()"
      ],
      "metadata": {
        "id": "JI4B8mIYDkVx"
      },
      "execution_count": null,
      "outputs": []
    },
    {
      "cell_type": "markdown",
      "source": [
        "2. Visualizing Data- 1 Day rainfall plot"
      ],
      "metadata": {
        "id": "rUFxVJSskfC0"
      }
    },
    {
      "cell_type": "code",
      "source": [
        "#plt.bar(day,rainfall[60,60,:])\n",
        "plt.imshow(rainfall[:,:,1])\n",
        "cbar=plt.colorbar()\n",
        "cbar.set_label('Rainfall (mm)')\n",
        "x=np.arange(0, 140, 20)\n",
        "plt.xticks(x,longitude[x])\n",
        "y=x=np.arange(0, 140, 20)\n",
        "plt.yticks(y,latitude[y])\n",
        "plt.gca().invert_yaxis()\n",
        "plt.title('1-Day Rainfall over india on 01-01-1901')\n",
        "plt.xlabel('Longitude')\n",
        "plt.ylabel('Latitude')\n",
        "\n",
        "\n"
      ],
      "metadata": {
        "id": "vxQdYerEECXz",
        "colab": {
          "base_uri": "https://localhost:8080/",
          "height": 312
        },
        "outputId": "cb4f9ff2-49bc-4350-a273-07eb6356767d"
      },
      "execution_count": 72,
      "outputs": [
        {
          "output_type": "stream",
          "name": "stdout",
          "text": [
            "72.27489471435547\n"
          ]
        },
        {
          "output_type": "display_data",
          "data": {
            "text/plain": [
              "<Figure size 432x288 with 2 Axes>"
            ],
            "image/png": "[encoded data removed]"
          },
          "metadata": {
            "needs_background": "light"
          }
        }
      ]
    },
    {
      "cell_type": "code",
      "source": [],
      "metadata": {
        "id": "NNYsEetx0swO"
      },
      "execution_count": null,
      "outputs": []
    },
    {
      "cell_type": "code",
      "source": [
        "print(max(rainfall[80,65,:]))"
      ],
      "metadata": {
        "id": "ARNU3Y6VEVkb",
        "colab": {
          "base_uri": "https://localhost:8080/"
        },
        "outputId": "7d711642-4420-4fde-a3e3-3fb57b433da1"
      },
      "execution_count": 63,
      "outputs": [
        {
          "output_type": "execute_result",
          "data": {
            "text/plain": [
              "masked_array(data=[66.5, 71.5, 76.5, 81.5, 86.5, 91.5, 96.5],\n",
              "             mask=False,\n",
              "       fill_value=1e+20)"
            ]
          },
          "metadata": {},
          "execution_count": 63
        }
      ]
    }
  ]
}